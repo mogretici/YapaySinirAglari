{
  "cells": [
    {
      "cell_type": "code",
      "execution_count": 121,
      "metadata": {
        "id": "9eAE3b8GcNvo"
      },
      "outputs": [],
      "source": [
        "import torch\n",
        "import pandas as pd\n",
        "import torch.nn as nn\n",
        "import torch.optim as optim\n",
        "from torch.utils.data import DataLoader, TensorDataset\n",
        "import matplotlib.pyplot as plt\n",
        "import datetime"
      ]
    },
    {
      "cell_type": "code",
      "execution_count": 122,
      "metadata": {
        "id": "Y5YgpW13js6Q",
        "colab": {
          "base_uri": "https://localhost:8080/"
        },
        "outputId": "0dcabfc9-f24d-4956-b63b-96c6a0b2545f"
      },
      "outputs": [
        {
          "output_type": "stream",
          "name": "stdout",
          "text": [
            "Drive already mounted at /content/drive; to attempt to forcibly remount, call drive.mount(\"/content/drive\", force_remount=True).\n"
          ]
        }
      ],
      "source": [
        "from google.colab import drive\n",
        "drive.mount(\"/content/drive\")"
      ]
    },
    {
      "cell_type": "code",
      "execution_count": 123,
      "metadata": {
        "id": "ZGWB50jG7NeW"
      },
      "outputs": [],
      "source": [
        "startTime = datetime.datetime.now()"
      ]
    },
    {
      "cell_type": "code",
      "execution_count": 124,
      "metadata": {
        "id": "Zs8kX1nVa7k1",
        "colab": {
          "base_uri": "https://localhost:8080/"
        },
        "outputId": "291a5139-bc33-4ece-8cf0-7d020e5dd406"
      },
      "outputs": [
        {
          "output_type": "execute_result",
          "data": {
            "text/plain": [
              "<torch._C.Generator at 0x7f0788dad490>"
            ]
          },
          "metadata": {},
          "execution_count": 124
        }
      ],
      "source": [
        "torch.manual_seed(190401094)"
      ]
    },
    {
      "cell_type": "code",
      "execution_count": 125,
      "metadata": {
        "id": "RcunTjCxlnNA"
      },
      "outputs": [],
      "source": [
        "batch_size = 16"
      ]
    },
    {
      "cell_type": "code",
      "execution_count": 126,
      "metadata": {
        "id": "31K6cl8KkbmU"
      },
      "outputs": [],
      "source": [
        "# Veri setlerini yükleme\n",
        "train_df = pd.read_csv('/content/drive/MyDrive/yapaysiniraglari/cure_the_princess_train.csv')\n",
        "test_df = pd.read_csv('/content/drive/MyDrive/yapaysiniraglari/cure_the_princess_test.csv')\n",
        "val_df = pd.read_csv('/content/drive/MyDrive/yapaysiniraglari/cure_the_princess_validation.csv')\n",
        "\n",
        "# Model eğitme\n",
        "from torch.utils.data import DataLoader, TensorDataset\n",
        "train_inputs = train_df.drop('Cured', axis=1).values\n",
        "train_labels = train_df['Cured'].values\n",
        "train_dataset = TensorDataset(torch.tensor(train_inputs, dtype=torch.float), torch.tensor(train_labels, dtype=torch.long))\n",
        "\n",
        "val_inputs = val_df.drop('Cured', axis=1).values\n",
        "val_labels = val_df['Cured'].values\n",
        "val_dataset = TensorDataset(torch.tensor(val_inputs, dtype=torch.float), torch.tensor(val_labels, dtype=torch.long))\n",
        "\n",
        "test_inputs = test_df.drop('Cured', axis=1).values\n",
        "test_labels = test_df['Cured'].values\n",
        "test_dataset = TensorDataset(torch.tensor(test_inputs, dtype=torch.float), torch.tensor(test_labels, dtype=torch.long))\n",
        "\n",
        "train_loader = DataLoader(train_dataset, batch_size=batch_size, shuffle=True)\n",
        "test_loader = DataLoader(test_dataset, batch_size=batch_size)\n",
        "val_loader = DataLoader(val_dataset, batch_size=batch_size)"
      ]
    },
    {
      "cell_type": "code",
      "execution_count": 127,
      "metadata": {
        "id": "SSf_5JztcT5k"
      },
      "outputs": [],
      "source": [
        "# Model tanımlama\n",
        "class MyModel(nn.Module):\n",
        "    def __init__(self):\n",
        "        super(MyModel, self).__init__()\n",
        "        #Ilk hidden layer’da 100, ikinci hidden layer’da 50 nöron olsun\n",
        "        self.fc1 = nn.Linear(len(train_df.columns) - 1, 100) \n",
        "        self.fc2 = nn.Linear(100, 50) \n",
        "        self.fc3 = nn.Linear(50, 2)\n",
        "        self.sigmoid = nn.Sigmoid()\n",
        "    \n",
        "    def forward(self, x):\n",
        "        output = nn.functional.relu(self.fc1(x))\n",
        "        output = nn.functional.relu(self.fc2(output))\n",
        "        output = self.fc3(output)\n",
        "        return self.sigmoid(output)\n",
        "        \n",
        "device = torch.device('cuda' if torch.cuda.is_available() else 'cpu')\n",
        "\n",
        "model = MyModel().to(device)"
      ]
    },
    {
      "cell_type": "code",
      "execution_count": 128,
      "metadata": {
        "id": "ghbDomT4cXZf"
      },
      "outputs": [],
      "source": [
        "#Loss function ve optimizer tanımlama\n",
        "criterion=nn.CrossEntropyLoss()\n",
        "optimizer = optim.SGD(model.parameters(), lr=0.01)"
      ]
    },
    {
      "cell_type": "code",
      "source": [
        "def evulate(valid_loader):\n",
        "  model.eval()\n",
        "  val_loss = 0.0\n",
        "  val_correct = 0\n",
        "  val_total = 0\n",
        "  with torch.no_grad():\n",
        "      for inputs, labels in valid_loader:\n",
        "          inputs = inputs.to(device)\n",
        "          labels = labels.to(device)\n",
        "          outputs = model(inputs)\n",
        "          loss = criterion(outputs, labels)\n",
        "          val_loss += loss.item()\n",
        "          _, predicted = outputs.max(1)\n",
        "          val_total += labels.size(0)\n",
        "          val_correct += predicted.eq(labels).sum().item()\n",
        "  val_loss /= len(valid_loader)\n",
        "  val_accuracy = 100. * val_correct / val_total\n",
        "  val_loss_list.append(val_loss)\n",
        "  val_score=val_loss\n",
        "  return val_accuracy, val_score, val_loss"
      ],
      "metadata": {
        "id": "XPBORbJGGbNk"
      },
      "execution_count": 129,
      "outputs": []
    },
    {
      "cell_type": "code",
      "source": [
        "def modeltrain():\n",
        "  train_loss, correct, total = 0.0 , 0 , 0\n",
        "  for inputs, labels in train_loader:\n",
        "      inputs, labels = inputs.to(device), labels.to(device)\n",
        "      optimizer.zero_grad()\n",
        "      outputs = model(inputs)\n",
        "      loss = criterion(outputs, labels)\n",
        "      loss.backward()\n",
        "      optimizer.step()\n",
        "      train_loss += loss.item()\n",
        "      _, predicted = outputs.max(1)\n",
        "      total += labels.size(0)\n",
        "      correct += predicted.eq(labels).sum().item()\n",
        "  train_loss /= len(train_loader)\n",
        "  train_accuracy = 100. * correct / total\n",
        "  loss_list.append(train_loss)\n",
        "  return train_loss, train_accuracy"
      ],
      "metadata": {
        "id": "jPqE_MSXJYvu"
      },
      "execution_count": 130,
      "outputs": []
    },
    {
      "cell_type": "code",
      "execution_count": 131,
      "metadata": {
        "id": "BjC5sLrTcZCv"
      },
      "outputs": [],
      "source": [
        "# Train function tanımlama\n",
        "def train(model, criterion, optimizer, train_loader, valid_loader, num_epochs, best_val_loss):\n",
        "    for epoch in range(num_epochs):\n",
        "       # Model eğitimi\n",
        "        model.train()\n",
        "        train_loss, train_accuracy = modeltrain()\n",
        "       # Değerlendirme\n",
        "        val_accuracy, val_score, val_loss = evulate(valid_loader)\n",
        "        #Early Stopping\n",
        "        if best_val_loss is None:\n",
        "          patience_counter=0\n",
        "          best_val_loss=val_score       \n",
        "          torch.save(model.state_dict(),\"checkpoint.pt\")\n",
        "        elif best_val_loss<val_score:     \n",
        "          patience_counter+=1\n",
        "          print(\"Earlystopping Patience Counter\",patience_counter)\n",
        "          if patience_counter==patience:\n",
        "            print(\"EARLYSTOPPED!\")\n",
        "            return epoch+2\n",
        "        else:\n",
        "          best_val_loss=val_score\n",
        "          torch.save(model.state_dict(),\"checkpoint.pt\")       \n",
        "          patience_counter=0       \n",
        "        print(f\"Epoch [{epoch+1}/{num_epochs}], Train Loss: {train_loss:.4f}, Train Acc: {train_accuracy:.2f}, Val Loss: {val_loss:.4f}, Val Acc: {val_accuracy:.2f}\")"
      ]
    },
    {
      "cell_type": "code",
      "source": [
        "num_epochs = 50\n",
        "loss_list = []\n",
        "val_loss_list = []\n",
        "patience=5\n",
        "best_val_loss = None\n",
        "break_value=train(model, criterion, optimizer, train_loader, val_loader, num_epochs, best_val_loss)"
      ],
      "metadata": {
        "colab": {
          "base_uri": "https://localhost:8080/"
        },
        "id": "sA_Q5C40DGFm",
        "outputId": "2cd8a4d8-d7a6-48cb-8267-6070acb2ab09"
      },
      "execution_count": 132,
      "outputs": [
        {
          "output_type": "stream",
          "name": "stdout",
          "text": [
            "Epoch [1/50], Train Loss: 0.6812, Train Acc: 53.51, Val Loss: 0.6292, Val Acc: 68.15\n",
            "Epoch [2/50], Train Loss: 0.6041, Train Acc: 73.72, Val Loss: 0.5491, Val Acc: 82.17\n",
            "Epoch [3/50], Train Loss: 0.5465, Train Acc: 80.35, Val Loss: 0.4990, Val Acc: 87.58\n",
            "Epoch [4/50], Train Loss: 0.5128, Train Acc: 83.31, Val Loss: 0.4624, Val Acc: 90.76\n",
            "Epoch [5/50], Train Loss: 0.4849, Train Acc: 85.14, Val Loss: 0.4428, Val Acc: 90.45\n",
            "Epoch [6/50], Train Loss: 0.4708, Train Acc: 86.18, Val Loss: 0.4297, Val Acc: 91.72\n",
            "Earlystopping Patience Counter 1\n",
            "Epoch [7/50], Train Loss: 0.4586, Train Acc: 87.06, Val Loss: 0.4451, Val Acc: 86.94\n",
            "Epoch [8/50], Train Loss: 0.4527, Train Acc: 86.82, Val Loss: 0.4120, Val Acc: 92.04\n",
            "Epoch [9/50], Train Loss: 0.4435, Train Acc: 88.18, Val Loss: 0.4112, Val Acc: 91.08\n",
            "Epoch [10/50], Train Loss: 0.4378, Train Acc: 88.82, Val Loss: 0.4053, Val Acc: 93.31\n",
            "Earlystopping Patience Counter 1\n",
            "Epoch [11/50], Train Loss: 0.4356, Train Acc: 88.74, Val Loss: 0.4141, Val Acc: 91.08\n",
            "Earlystopping Patience Counter 2\n",
            "Epoch [12/50], Train Loss: 0.4321, Train Acc: 88.42, Val Loss: 0.5127, Val Acc: 77.71\n",
            "Epoch [13/50], Train Loss: 0.4266, Train Acc: 88.82, Val Loss: 0.3958, Val Acc: 92.36\n",
            "Earlystopping Patience Counter 1\n",
            "Epoch [14/50], Train Loss: 0.4228, Train Acc: 89.06, Val Loss: 0.3961, Val Acc: 92.36\n",
            "Earlystopping Patience Counter 2\n",
            "Epoch [15/50], Train Loss: 0.4182, Train Acc: 90.18, Val Loss: 0.4023, Val Acc: 91.72\n",
            "Earlystopping Patience Counter 3\n",
            "Epoch [16/50], Train Loss: 0.4194, Train Acc: 89.54, Val Loss: 0.3984, Val Acc: 92.36\n",
            "Earlystopping Patience Counter 4\n",
            "Epoch [17/50], Train Loss: 0.4131, Train Acc: 90.58, Val Loss: 0.4033, Val Acc: 91.40\n",
            "Epoch [18/50], Train Loss: 0.4112, Train Acc: 90.26, Val Loss: 0.3953, Val Acc: 91.72\n",
            "Earlystopping Patience Counter 1\n",
            "Epoch [19/50], Train Loss: 0.4112, Train Acc: 90.65, Val Loss: 0.4006, Val Acc: 91.72\n",
            "Epoch [20/50], Train Loss: 0.4070, Train Acc: 90.81, Val Loss: 0.3932, Val Acc: 91.72\n",
            "Epoch [21/50], Train Loss: 0.4048, Train Acc: 91.13, Val Loss: 0.3850, Val Acc: 93.63\n",
            "Earlystopping Patience Counter 1\n",
            "Epoch [22/50], Train Loss: 0.4043, Train Acc: 91.45, Val Loss: 0.3905, Val Acc: 92.36\n",
            "Earlystopping Patience Counter 2\n",
            "Epoch [23/50], Train Loss: 0.4048, Train Acc: 92.01, Val Loss: 0.3992, Val Acc: 92.36\n",
            "Epoch [24/50], Train Loss: 0.3992, Train Acc: 91.85, Val Loss: 0.3806, Val Acc: 94.27\n",
            "Earlystopping Patience Counter 1\n",
            "Epoch [25/50], Train Loss: 0.3953, Train Acc: 92.41, Val Loss: 0.3932, Val Acc: 92.36\n",
            "Earlystopping Patience Counter 2\n",
            "Epoch [26/50], Train Loss: 0.3952, Train Acc: 92.33, Val Loss: 0.3848, Val Acc: 93.31\n",
            "Earlystopping Patience Counter 3\n",
            "Epoch [27/50], Train Loss: 0.3927, Train Acc: 92.81, Val Loss: 0.4085, Val Acc: 90.76\n",
            "Earlystopping Patience Counter 4\n",
            "Epoch [28/50], Train Loss: 0.3909, Train Acc: 93.05, Val Loss: 0.4729, Val Acc: 83.76\n",
            "Earlystopping Patience Counter 5\n",
            "EARLYSTOPPED!\n"
          ]
        }
      ]
    },
    {
      "cell_type": "code",
      "execution_count": 133,
      "metadata": {
        "id": "yLzrYOxjzgHa",
        "colab": {
          "base_uri": "https://localhost:8080/"
        },
        "outputId": "4236a962-fb35-47e7-bf26-5bf7a2b28f0b"
      },
      "outputs": [
        {
          "output_type": "stream",
          "name": "stdout",
          "text": [
            "Test Accuracy: 0.9326\n",
            "Precision: 0.9357\n",
            "Recall: 0.9326\n",
            "F1 Score: 0.9325\n"
          ]
        }
      ],
      "source": [
        "from sklearn.metrics import  accuracy_score, precision_score, f1_score,recall_score\n",
        "\n",
        "# Modeli değerlendirme modunda ayarla\n",
        "model.eval()\n",
        "\n",
        "# Test seti üzerinde döngüye gir ve tahminler yap\n",
        "with torch.no_grad():\n",
        "    true_labels = []\n",
        "    predicted_labels = []\n",
        "    for inputs, labels in test_loader:\n",
        "        inputs = inputs.to(device)\n",
        "        labels = labels.to(device)\n",
        "        outputs = model(inputs)\n",
        "        _, predicted = torch.max(outputs.data, 1)\n",
        "        true_labels += labels.cpu().numpy().tolist()\n",
        "        predicted_labels += predicted.cpu().numpy().tolist()\n",
        "\n",
        "# Performans metriklerini hesapla\n",
        "accuracy = accuracy_score(true_labels, predicted_labels)\n",
        "precision = precision_score(true_labels, predicted_labels, average='weighted', zero_division=1)\n",
        "recall = recall_score(true_labels, predicted_labels, average='weighted', zero_division=1)\n",
        "f1 = f1_score(true_labels, predicted_labels, average='weighted', zero_division=1)\n",
        "\n",
        "print(f\"Test Accuracy: {accuracy:.4f}\")\n",
        "print(f\"Precision: {precision:.4f}\")\n",
        "print(f\"Recall: {recall:.4f}\")\n",
        "print(f\"F1 Score: {f1:.4f}\")"
      ]
    },
    {
      "cell_type": "code",
      "execution_count": 134,
      "metadata": {
        "id": "CVxbZ4OzyOAf",
        "colab": {
          "base_uri": "https://localhost:8080/",
          "height": 472
        },
        "outputId": "e2567685-a5cf-40af-9953-8a2b5ef7740a"
      },
      "outputs": [
        {
          "output_type": "display_data",
          "data": {
            "text/plain": [
              "<Figure size 640x480 with 1 Axes>"
            ],
            "image/png": "[encoded data removed]"
          },
          "metadata": {}
        }
      ],
      "source": [
        "# Train Loss over Epochs figürü çiz\n",
        "plt.figure()\n",
        "break_value = num_epochs+1 if break_value is None else break_value\n",
        "plt.plot(range(1, break_value), loss_list, label= \"Training Loss\")\n",
        "plt.plot(range(1, break_value), val_loss_list, label='Validation Loss')\n",
        "plt.xlabel('Epoch')\n",
        "plt.ylabel('Train Loss')\n",
        "plt.title('Train Loss over Epochs')\n",
        "plt.legend()\n",
        "plt.show()"
      ]
    },
    {
      "cell_type": "code",
      "execution_count": 135,
      "metadata": {
        "id": "gFwgjx6U7n2S",
        "colab": {
          "base_uri": "https://localhost:8080/"
        },
        "outputId": "b0af87f4-3ef6-433e-cf8d-e652e92035c1"
      },
      "outputs": [
        {
          "output_type": "stream",
          "name": "stdout",
          "text": [
            "Başlangıç Zamanı:  2023-04-14 09:45:48.529023 \n",
            "Bitiş Zamanı:  2023-04-14 09:45:48.529023 \n",
            "Toplam Çalışma Süresi: 0:00:03.869601 \n",
            "Çalışma Ortamı:  CPU\n"
          ]
        }
      ],
      "source": [
        "endTime = datetime.datetime.now()\n",
        "print(\"Başlangıç Zamanı: \", endTime, \"\\nBitiş Zamanı: \", endTime, \"\\nToplam Çalışma Süresi:\", endTime-startTime , \"\\nÇalışma Ortamı: \", str(device).upper())"
      ]
    }
  ],
  "metadata": {
    "colab": {
      "provenance": [],
      "authorship_tag": "ABX9TyNpVIXgv3MndVmVih0l/VI0"
    },
    "gpuClass": "standard",
    "kernelspec": {
      "display_name": "Python 3",
      "name": "python3"
    },
    "language_info": {
      "name": "python"
    }
  },
  "nbformat": 4,
  "nbformat_minor": 0
}