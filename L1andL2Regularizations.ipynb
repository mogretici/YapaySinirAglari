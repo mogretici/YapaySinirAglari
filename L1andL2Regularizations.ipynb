{
  "nbformat": 4,
  "nbformat_minor": 0,
  "metadata": {
    "colab": {
      "provenance": [],
      "authorship_tag": "ABX9TyO5oUYE+kay/kEakuxeW0D9"
    },
    "kernelspec": {
      "name": "python3",
      "display_name": "Python 3"
    },
    "language_info": {
      "name": "python"
    },
    "gpuClass": "standard"
  },
  "cells": [
    {
      "cell_type": "code",
      "execution_count": null,
      "metadata": {
        "id": "9eAE3b8GcNvo"
      },
      "outputs": [],
      "source": [
        "import torch\n",
        "import pandas as pd\n",
        "import torch.nn as nn\n",
        "import torch.optim as optim\n",
        "from torch.utils.data import DataLoader, TensorDataset\n",
        "import matplotlib.pyplot as plt\n",
        "import datetime"
      ]
    },
    {
      "cell_type": "code",
      "source": [
        "from google.colab import drive\n",
        "drive.mount(\"/content/drive\")"
      ],
      "metadata": {
        "colab": {
          "base_uri": "https://localhost:8080/"
        },
        "id": "Y5YgpW13js6Q",
        "outputId": "9dabb4b7-cfb6-4620-8022-7b1e988e8f28"
      },
      "execution_count": null,
      "outputs": [
        {
          "output_type": "stream",
          "name": "stdout",
          "text": [
            "Mounted at /content/drive\n"
          ]
        }
      ]
    },
    {
      "cell_type": "code",
      "source": [
        "startTime = datetime.datetime.now()"
      ],
      "metadata": {
        "id": "ZGWB50jG7NeW"
      },
      "execution_count": null,
      "outputs": []
    },
    {
      "cell_type": "code",
      "source": [
        "torch.manual_seed(190401094)"
      ],
      "metadata": {
        "colab": {
          "base_uri": "https://localhost:8080/"
        },
        "id": "Zs8kX1nVa7k1",
        "outputId": "aae5d944-a642-4121-b3aa-e50cc4b6fe2f"
      },
      "execution_count": null,
      "outputs": [
        {
          "output_type": "execute_result",
          "data": {
            "text/plain": [
              "<torch._C.Generator at 0x7ff602a43510>"
            ]
          },
          "metadata": {},
          "execution_count": 4
        }
      ]
    },
    {
      "cell_type": "code",
      "source": [
        "batch_size = 16"
      ],
      "metadata": {
        "id": "RcunTjCxlnNA"
      },
      "execution_count": null,
      "outputs": []
    },
    {
      "cell_type": "code",
      "source": [
        "# Veri setlerini yükleme\n",
        "train_df = pd.read_csv('/content/drive/MyDrive/yapaysiniraglari/cure_the_princess_train.csv')\n",
        "test_df = pd.read_csv('/content/drive/MyDrive/yapaysiniraglari/cure_the_princess_test.csv')\n",
        "val_df = pd.read_csv('/content/drive/MyDrive/yapaysiniraglari/cure_the_princess_validation.csv')\n",
        "\n",
        "# Model eğitme\n",
        "from torch.utils.data import DataLoader, TensorDataset\n",
        "train_inputs = train_df.drop('Cured', axis=1).values\n",
        "train_labels = train_df['Cured'].values\n",
        "train_dataset = TensorDataset(torch.tensor(train_inputs, dtype=torch.float), torch.tensor(train_labels, dtype=torch.long))\n",
        "\n",
        "val_inputs = val_df.drop('Cured', axis=1).values\n",
        "val_labels = val_df['Cured'].values\n",
        "val_dataset = TensorDataset(torch.tensor(val_inputs, dtype=torch.float), torch.tensor(val_labels, dtype=torch.long))\n",
        "\n",
        "test_inputs = test_df.drop('Cured', axis=1).values\n",
        "test_labels = test_df['Cured'].values\n",
        "test_dataset = TensorDataset(torch.tensor(test_inputs, dtype=torch.float), torch.tensor(test_labels, dtype=torch.long))\n",
        "\n",
        "train_loader = DataLoader(train_dataset, batch_size=batch_size, shuffle=True)\n",
        "test_loader = DataLoader(test_dataset, batch_size=batch_size)\n",
        "val_loader = DataLoader(val_dataset, batch_size=batch_size)"
      ],
      "metadata": {
        "id": "31K6cl8KkbmU"
      },
      "execution_count": null,
      "outputs": []
    },
    {
      "cell_type": "code",
      "source": [
        "# Model tanımlama\n",
        "class MyModel(nn.Module):\n",
        "    def __init__(self):\n",
        "        super(MyModel, self).__init__()\n",
        "        #Ilk hidden layer’da 100, ikinci hidden layer’da 50 nöron olsun\n",
        "        self.fc1 = nn.Linear(len(train_df.columns) - 1, 100) \n",
        "        self.fc2 = nn.Linear(100, 50) \n",
        "        self.fc3 = nn.Linear(50, 2)\n",
        "        self.sigmoid = nn.Sigmoid()\n",
        "    \n",
        "    def forward(self, x):\n",
        "        output = nn.functional.relu(self.fc1(x))\n",
        "        output = nn.functional.relu(self.fc2(output))\n",
        "        output = self.fc3(output)\n",
        "        return self.sigmoid(output)\n",
        "        \n",
        "device = torch.device('cuda' if torch.cuda.is_available() else 'cpu')\n",
        "\n",
        "model = MyModel().to(device)"
      ],
      "metadata": {
        "id": "SSf_5JztcT5k"
      },
      "execution_count": null,
      "outputs": []
    },
    {
      "cell_type": "code",
      "source": [
        "#Loss function ve optimizer tanımlama\n",
        "criterion=nn.CrossEntropyLoss()\n",
        "optimizer = optim.SGD(model.parameters(), lr=0.01)"
      ],
      "metadata": {
        "id": "ghbDomT4cXZf"
      },
      "execution_count": null,
      "outputs": []
    },
    {
      "cell_type": "code",
      "source": [
        "# Train function tanımlama\n",
        "def train(model, criterion, optimizer, train_loader, valid_loader, num_epochs, best_val_loss):\n",
        "    for epoch in range(num_epochs):\n",
        "       # Model eğitimi\n",
        "        model.train()\n",
        "        train_loss = 0.0\n",
        "        correct = 0\n",
        "        total = 0\n",
        "        for inputs, labels in train_loader:\n",
        "            inputs = inputs.to(device)\n",
        "            labels = labels.to(device)\n",
        "            optimizer.zero_grad()\n",
        "            outputs = model(inputs)\n",
        "            loss = criterion(outputs, labels)\n",
        "\n",
        "            #StartL1Reg\n",
        "            # l1_loss = 0\n",
        "            # for param in model.parameters():\n",
        "            #     l1_loss += torch.sum(torch.abs(param))\n",
        "            # loss += l1_reg * l1_loss\n",
        "            #EndL1Reg\n",
        "\n",
        "            #StartL2Reg\n",
        "            l2_reg = 0.0\n",
        "            for param in model.parameters():\n",
        "                l2_reg += torch.norm(param)\n",
        "            loss += weight_decay * l2_reg\n",
        "            #EndL2Reg\n",
        "\n",
        "            loss.backward()\n",
        "            optimizer.step()\n",
        "            train_loss += loss.item()\n",
        "            _, predicted = outputs.max(1)\n",
        "            total += labels.size(0)\n",
        "            correct += predicted.eq(labels).sum().item()\n",
        "        train_loss /= len(train_loader)\n",
        "        train_accuracy = 100. * correct / total\n",
        "        loss_list.append(train_loss)\n",
        "\n",
        "       # Değerlendirme\n",
        "        model.eval()\n",
        "        val_loss = 0.0\n",
        "        val_correct = 0\n",
        "        val_total = 0\n",
        "        with torch.no_grad():\n",
        "            for inputs, labels in valid_loader:\n",
        "                inputs = inputs.to(device)\n",
        "                labels = labels.to(device)\n",
        "                outputs = model(inputs)\n",
        "                loss = criterion(outputs, labels)\n",
        "                #StartL1Reg\n",
        "                # l1_loss = 0\n",
        "                # for param in model.parameters():\n",
        "                #     l1_loss += torch.sum(torch.abs(param))\n",
        "                # loss += l1_reg * l1_loss\n",
        "                #EndL1Reg\n",
        "\n",
        "                #StartL2Reg\n",
        "                l2_reg = 0.0\n",
        "                for param in model.parameters():\n",
        "                    l2_reg += torch.norm(param)\n",
        "                loss += weight_decay * l2_reg\n",
        "                # EndL2Reg\n",
        "\n",
        "                val_loss += loss.item()\n",
        "                _, predicted = outputs.max(1)\n",
        "                val_total += labels.size(0)\n",
        "                val_correct += predicted.eq(labels).sum().item()\n",
        "        val_loss /= len(valid_loader)\n",
        "        val_accuracy = 100. * val_correct / val_total\n",
        "        val_loss_list.append(val_loss)\n",
        "\n",
        "        #Early Stopping\n",
        "        val_score=val_loss\n",
        "        if best_val_loss is None:\n",
        "          patience_counter=0\n",
        "          best_val_loss=val_score       \n",
        "          torch.save(model.state_dict(),\"checkpoint.pt\")\n",
        "        elif best_val_loss < val_score:     \n",
        "          patience_counter+=1\n",
        "          print(\"Earlystopping Patience Counter\",patience_counter)\n",
        "          if patience_counter==patience:\n",
        "            print(\"EARLYSTOPPED!\")\n",
        "            return epoch+2\n",
        "        else:\n",
        "          best_val_loss=val_score\n",
        "          torch.save(model.state_dict(),\"checkpoint.pt\")       \n",
        "          patience_counter=0       \n",
        "    \n",
        "        print(f\"Epoch [{epoch+1}/{num_epochs}], Train Loss: {train_loss:.4f}, Train Acc: {train_accuracy:.2f}, Val Loss: {val_loss:.4f}, Val Acc: {val_accuracy:.2f}\")\n",
        "        \n",
        "l1_reg = 0.01 # L1 regularization katsayısı\n",
        "weight_decay = 0.1  # L2 regularization katsayısı\n",
        "num_epochs = 50\n",
        "loss_list = []\n",
        "val_loss_list = []\n",
        "patience=5\n",
        "best_val_loss = None\n",
        "break_value=train(model, criterion, optimizer, train_loader, val_loader, num_epochs, best_val_loss)"
      ],
      "metadata": {
        "colab": {
          "base_uri": "https://localhost:8080/"
        },
        "id": "BjC5sLrTcZCv",
        "outputId": "456b6e5f-fe02-46a9-f0bc-924368a001f7"
      },
      "execution_count": null,
      "outputs": [
        {
          "output_type": "stream",
          "name": "stdout",
          "text": [
            "Epoch [1/50], Train Loss: 1.9313, Train Acc: 53.99, Val Loss: 1.8594, Val Acc: 70.38\n",
            "Epoch [2/50], Train Loss: 1.8188, Train Acc: 74.12, Val Loss: 1.7528, Val Acc: 80.25\n",
            "Epoch [3/50], Train Loss: 1.7373, Train Acc: 79.71, Val Loss: 1.6798, Val Acc: 86.94\n",
            "Epoch [4/50], Train Loss: 1.6785, Train Acc: 82.11, Val Loss: 1.6166, Val Acc: 89.49\n",
            "Epoch [5/50], Train Loss: 1.6240, Train Acc: 84.03, Val Loss: 1.5708, Val Acc: 88.54\n",
            "Epoch [6/50], Train Loss: 1.5861, Train Acc: 84.82, Val Loss: 1.5356, Val Acc: 92.04\n",
            "Epoch [7/50], Train Loss: 1.5537, Train Acc: 85.54, Val Loss: 1.5195, Val Acc: 86.94\n",
            "Epoch [8/50], Train Loss: 1.5259, Train Acc: 85.62, Val Loss: 1.4765, Val Acc: 92.36\n",
            "Epoch [9/50], Train Loss: 1.4968, Train Acc: 86.90, Val Loss: 1.4498, Val Acc: 92.36\n",
            "Epoch [10/50], Train Loss: 1.4691, Train Acc: 87.30, Val Loss: 1.4235, Val Acc: 92.36\n",
            "Epoch [11/50], Train Loss: 1.4460, Train Acc: 87.94, Val Loss: 1.4109, Val Acc: 89.81\n",
            "Epoch [12/50], Train Loss: 1.4217, Train Acc: 86.66, Val Loss: 1.3954, Val Acc: 90.13\n",
            "Epoch [13/50], Train Loss: 1.3949, Train Acc: 88.10, Val Loss: 1.3541, Val Acc: 91.72\n",
            "Epoch [14/50], Train Loss: 1.3711, Train Acc: 87.86, Val Loss: 1.3317, Val Acc: 91.08\n",
            "Epoch [15/50], Train Loss: 1.3476, Train Acc: 88.50, Val Loss: 1.3161, Val Acc: 90.45\n",
            "Epoch [16/50], Train Loss: 1.3268, Train Acc: 87.86, Val Loss: 1.2914, Val Acc: 90.76\n",
            "Epoch [17/50], Train Loss: 1.3021, Train Acc: 88.50, Val Loss: 1.2610, Val Acc: 92.68\n",
            "Epoch [18/50], Train Loss: 1.2779, Train Acc: 88.26, Val Loss: 1.2479, Val Acc: 91.72\n",
            "Epoch [19/50], Train Loss: 1.2575, Train Acc: 88.74, Val Loss: 1.2188, Val Acc: 92.99\n",
            "Epoch [20/50], Train Loss: 1.2342, Train Acc: 88.74, Val Loss: 1.1988, Val Acc: 92.68\n",
            "Epoch [21/50], Train Loss: 1.2172, Train Acc: 89.14, Val Loss: 1.1824, Val Acc: 92.36\n",
            "Epoch [22/50], Train Loss: 1.2055, Train Acc: 89.14, Val Loss: 1.1701, Val Acc: 92.99\n",
            "Epoch [23/50], Train Loss: 1.1940, Train Acc: 89.06, Val Loss: 1.1619, Val Acc: 92.68\n",
            "Epoch [24/50], Train Loss: 1.1768, Train Acc: 89.46, Val Loss: 1.1425, Val Acc: 92.04\n",
            "Epoch [25/50], Train Loss: 1.1627, Train Acc: 89.06, Val Loss: 1.1313, Val Acc: 92.36\n",
            "Epoch [26/50], Train Loss: 1.1505, Train Acc: 88.98, Val Loss: 1.1286, Val Acc: 92.68\n",
            "Epoch [27/50], Train Loss: 1.1388, Train Acc: 89.38, Val Loss: 1.1117, Val Acc: 92.36\n",
            "Earlystopping Patience Counter 1\n",
            "Epoch [28/50], Train Loss: 1.1243, Train Acc: 89.54, Val Loss: 1.1386, Val Acc: 85.35\n",
            "Epoch [29/50], Train Loss: 1.1122, Train Acc: 89.54, Val Loss: 1.0864, Val Acc: 92.99\n",
            "Epoch [30/50], Train Loss: 1.0992, Train Acc: 89.78, Val Loss: 1.0773, Val Acc: 92.36\n",
            "Epoch [31/50], Train Loss: 1.0870, Train Acc: 90.02, Val Loss: 1.0562, Val Acc: 93.31\n",
            "Earlystopping Patience Counter 1\n",
            "Epoch [32/50], Train Loss: 1.0759, Train Acc: 90.26, Val Loss: 1.0611, Val Acc: 91.40\n",
            "Epoch [33/50], Train Loss: 1.0654, Train Acc: 90.10, Val Loss: 1.0344, Val Acc: 92.36\n",
            "Epoch [34/50], Train Loss: 1.0518, Train Acc: 90.73, Val Loss: 1.0222, Val Acc: 93.31\n",
            "Epoch [35/50], Train Loss: 1.0390, Train Acc: 90.02, Val Loss: 1.0122, Val Acc: 92.36\n",
            "Earlystopping Patience Counter 1\n",
            "Epoch [36/50], Train Loss: 1.0286, Train Acc: 90.42, Val Loss: 1.0147, Val Acc: 91.08\n",
            "Epoch [37/50], Train Loss: 1.0174, Train Acc: 90.34, Val Loss: 0.9894, Val Acc: 93.31\n",
            "Epoch [38/50], Train Loss: 1.0066, Train Acc: 90.34, Val Loss: 0.9806, Val Acc: 92.36\n",
            "Earlystopping Patience Counter 1\n",
            "Epoch [39/50], Train Loss: 0.9974, Train Acc: 90.58, Val Loss: 0.9807, Val Acc: 92.04\n",
            "Epoch [40/50], Train Loss: 0.9860, Train Acc: 90.50, Val Loss: 0.9585, Val Acc: 93.31\n",
            "Epoch [41/50], Train Loss: 0.9769, Train Acc: 90.26, Val Loss: 0.9496, Val Acc: 92.68\n",
            "Epoch [42/50], Train Loss: 0.9678, Train Acc: 90.42, Val Loss: 0.9442, Val Acc: 92.99\n",
            "Epoch [43/50], Train Loss: 0.9597, Train Acc: 90.81, Val Loss: 0.9318, Val Acc: 92.36\n",
            "Epoch [44/50], Train Loss: 0.9456, Train Acc: 90.81, Val Loss: 0.9226, Val Acc: 92.36\n",
            "Epoch [45/50], Train Loss: 0.9359, Train Acc: 90.58, Val Loss: 0.9125, Val Acc: 92.68\n",
            "Epoch [46/50], Train Loss: 0.9269, Train Acc: 90.89, Val Loss: 0.9038, Val Acc: 92.99\n",
            "Earlystopping Patience Counter 1\n",
            "Epoch [47/50], Train Loss: 0.9199, Train Acc: 91.05, Val Loss: 0.9097, Val Acc: 91.08\n",
            "Epoch [48/50], Train Loss: 0.9120, Train Acc: 90.97, Val Loss: 0.8872, Val Acc: 92.99\n",
            "Epoch [49/50], Train Loss: 0.9037, Train Acc: 90.81, Val Loss: 0.8790, Val Acc: 92.99\n",
            "Epoch [50/50], Train Loss: 0.8935, Train Acc: 90.73, Val Loss: 0.8745, Val Acc: 92.68\n"
          ]
        }
      ]
    },
    {
      "cell_type": "code",
      "source": [
        "from sklearn.metrics import  accuracy_score, precision_score, f1_score,recall_score\n",
        "\n",
        "# Modeli değerlendirme modunda ayarla\n",
        "model.eval()\n",
        "\n",
        "# Test seti üzerinde döngüye gir ve tahminler yap\n",
        "with torch.no_grad():\n",
        "    true_labels = []\n",
        "    predicted_labels = []\n",
        "    for inputs, labels in test_loader:\n",
        "        inputs = inputs.to(device)\n",
        "        labels = labels.to(device)\n",
        "        outputs = model(inputs)\n",
        "        _, predicted = torch.max(outputs.data, 1)\n",
        "        true_labels += labels.cpu().numpy().tolist()\n",
        "        predicted_labels += predicted.cpu().numpy().tolist()\n",
        "\n",
        "# Performans metriklerini hesapla\n",
        "accuracy = accuracy_score(true_labels, predicted_labels)\n",
        "precision = precision_score(true_labels, predicted_labels, average='weighted', zero_division=1)\n",
        "recall = recall_score(true_labels, predicted_labels, average='weighted', zero_division=1)\n",
        "f1 = f1_score(true_labels, predicted_labels, average='weighted', zero_division=1)\n",
        "\n",
        "print(f\"Test Accuracy: {accuracy:.4f}\")\n",
        "print(f\"Precision: {precision:.4f}\")\n",
        "print(f\"Recall: {recall:.4f}\")\n",
        "print(f\"F1 Score: {f1:.4f}\")"
      ],
      "metadata": {
        "colab": {
          "base_uri": "https://localhost:8080/"
        },
        "id": "yLzrYOxjzgHa",
        "outputId": "715cd3e1-217b-4dc3-bf26-9169f0289280"
      },
      "execution_count": null,
      "outputs": [
        {
          "output_type": "stream",
          "name": "stdout",
          "text": [
            "Test Accuracy: 0.9093\n",
            "Precision: 0.9109\n",
            "Recall: 0.9093\n",
            "F1 Score: 0.9093\n"
          ]
        }
      ]
    },
    {
      "cell_type": "code",
      "source": [
        "# Train Loss over Epochs figürü çiz\n",
        "plt.figure()\n",
        "break_value = num_epochs+1 if break_value is None else break_value\n",
        "plt.plot(range(1, break_value), loss_list, label= \"Training Loss\")\n",
        "plt.plot(range(1, break_value), val_loss_list, label='Validation Loss')\n",
        "plt.xlabel('Epoch')\n",
        "plt.ylabel('Train Loss')\n",
        "plt.title('Train Loss over Epochs')\n",
        "plt.legend()\n",
        "plt.show()"
      ],
      "metadata": {
        "colab": {
          "base_uri": "https://localhost:8080/",
          "height": 54
        },
        "id": "CVxbZ4OzyOAf",
        "outputId": "ad07e143-353d-4745-a0a8-49e9d48c5c07"
      },
      "execution_count": null,
      "outputs": [
        {
          "output_type": "display_data",
          "data": {
            "text/plain": [
              "<Figure size 640x480 with 1 Axes>"
            ],
            "image/png": "[encoded data removed]"
          },
          "metadata": {}
        }
      ]
    },
    {
      "cell_type": "code",
      "source": [
        "endTime = datetime.datetime.now()\n",
        "print(\"Başlangıç Zamanı: \", endTime, \"\\nBitiş Zamanı: \", endTime, \"\\nToplam Çalışma Süresi:\", endTime-startTime , \"\\nÇalışma Ortamı: \", str(device).upper())"
      ],
      "metadata": {
        "colab": {
          "base_uri": "https://localhost:8080/"
        },
        "id": "gFwgjx6U7n2S",
        "outputId": "2f040676-0a70-4cb7-8994-8f43bf08ca42"
      },
      "execution_count": null,
      "outputs": [
        {
          "output_type": "stream",
          "name": "stdout",
          "text": [
            "Başlangıç Zamanı:  2023-04-09 11:49:30.221125 \n",
            "Bitiş Zamanı:  2023-04-09 11:49:30.221125 \n",
            "Toplam Çalışma Süresi: 0:00:10.220616 \n",
            "Çalışma Ortamı:  CPU\n"
          ]
        }
      ]
    }
  ]
}
